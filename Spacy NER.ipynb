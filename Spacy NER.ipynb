{
 "cells": [
  {
   "cell_type": "markdown",
   "metadata": {},
   "source": [
    "## Spacy -NER"
   ]
  },
  {
   "cell_type": "markdown",
   "metadata": {},
   "source": [
    "ref:https://medium.com/@jack.rory.staunton/hi-wuraola-bb4b3967ce08\n",
    "The NER model in spaCy is a transition-based system based on the chunking model from (Lample et al., 2016). Tokens are represented as hashed, embedded representations of the prefix, suffix, shape and lemmatized features of individual words. Next, we describe the data we used to train NER models in scispaCy. https://www.groundai.com/project/scispacy-fast-and-robust-models-for-biomedical-natural-language-processing/1\n",
    "\n",
    "\n",
    "The main NER model in both released packages in scispaCy is trained on the mention spans in the MedMentions dataset (Murty et al., 2018). Since the MedMentions dataset was originally designed for entity linking, this model recognizes a wide variety of entity types, as well as non-standard syntactic phrases such as verbs and modifiers, but the model does not predict the entity type. In order to provide for users with more specific requirements around entity types, we release four additional packages en_ner_\\{bc5cdr|craft|jnlpba|bionlp13cg\\}_md with finer-grained NER models trained on BC5CDR (for chemicals and diseases; Li et al., 2016), CRAFT (for cell types, chemicals, proteins, genes; Bada et al., 2011), JNLPBA (for cell lines, cell types, DNAs, RNAs, proteins; Collier and Kim, 2004) and BioNLP13CG (for cancer genetics; Pyysalo et al., 2015), respectively."
   ]
  },
  {
   "cell_type": "code",
   "execution_count": 1,
   "metadata": {},
   "outputs": [],
   "source": [
    "import scispacy\n",
    "import swifter\n",
    "import pandas as pd\n",
    "from spacy import displacy\n",
    "import en_core_sci_md\n",
    "import en_core_sci_md\n",
    "import en_ner_bc5cdr_md\n",
    "import en_ner_jnlpba_md\n",
    "import en_ner_craft_md\n",
    "import en_ner_bionlp13cg_md\n",
    "from scispacy.abbreviation import AbbreviationDetector\n",
    "from scispacy.linking import EntityLinker\n",
    "from collections import OrderedDict,Counter\n",
    "from pprint import pprint\n",
    "from tqdm import tqdm\n",
    "tqdm.pandas()\n",
    "import regex as re"
   ]
  },
  {
   "cell_type": "code",
   "execution_count": 9,
   "metadata": {},
   "outputs": [],
   "source": []
  },
  {
   "cell_type": "code",
   "execution_count": null,
   "metadata": {},
   "outputs": [],
   "source": [
    "#Swiftapply, available on pip from the swifter package, makes it easy to apply\n",
    "#any function to your pandas series or dataframe in the fastest available manner.\n",
    "#swiftapply tries to run your operation in a vectorized fashion. \n",
    "#Failing that, it automatically decides whether it is faster to perform task \n",
    "# parallel processing or use a simple pandas apply."
   ]
  },
  {
   "cell_type": "code",
   "execution_count": 5,
   "metadata": {},
   "outputs": [],
   "source": [
    "df = pd.read_csv('capstone_data.csv')\n",
    "df=df [['title','abstract','text_body']][:600]"
   ]
  },
  {
   "cell_type": "code",
   "execution_count": 6,
   "metadata": {},
   "outputs": [
    {
     "data": {
      "text/plain": [
       "(507, 3)"
      ]
     },
     "execution_count": 6,
     "metadata": {},
     "output_type": "execute_result"
    }
   ],
   "source": [
    "df.shape"
   ]
  },
  {
   "cell_type": "code",
   "execution_count": 10,
   "metadata": {},
   "outputs": [],
   "source": [
    "#A little bit of superficial cleaning\n",
    "\n",
    "def clean_dataset(text):\n",
    "    text=re.sub(\"[\\[].*?[\\]]\", \"\", str(text))  #remove in-text citation\n",
    "    text=re.sub(r'^https?:\\/\\/.*[\\r\\n]*', '',text, flags=re.MULTILINE)#remove hyperlink\n",
    "    text=re.sub(r'^a1111111111 a1111111111 a1111111111 a1111111111 a1111111111.*[\\r\\n]*',' ',text)#some text has a11111.. \n",
    "    text=re.sub(r' +', ' ',text ) #remove extra space\n",
    "    text=re.sub(r's/ ( *)/\\1/g','',text)\n",
    "    \n",
    "    return text"
   ]
  },
  {
   "cell_type": "code",
   "execution_count": 11,
   "metadata": {},
   "outputs": [],
   "source": [
    "df['text_body'] = df['text_body'].apply(clean_dataset)\n",
    "df['abstract'] = df['abstract'].apply(clean_dataset)"
   ]
  },
  {
   "cell_type": "code",
   "execution_count": 12,
   "metadata": {},
   "outputs": [
    {
     "data": {
      "text/html": [
       "<div>\n",
       "<style scoped>\n",
       "    .dataframe tbody tr th:only-of-type {\n",
       "        vertical-align: middle;\n",
       "    }\n",
       "\n",
       "    .dataframe tbody tr th {\n",
       "        vertical-align: top;\n",
       "    }\n",
       "\n",
       "    .dataframe thead th {\n",
       "        text-align: right;\n",
       "    }\n",
       "</style>\n",
       "<table border=\"1\" class=\"dataframe\">\n",
       "  <thead>\n",
       "    <tr style=\"text-align: right;\">\n",
       "      <th></th>\n",
       "      <th>title</th>\n",
       "      <th>abstract</th>\n",
       "      <th>text_body</th>\n",
       "    </tr>\n",
       "  </thead>\n",
       "  <tbody>\n",
       "    <tr>\n",
       "      <th>0</th>\n",
       "      <td>Recombination Every Day: Abundant Recombinatio...</td>\n",
       "      <td>Viral recombination can dramatically impact ev...</td>\n",
       "      <td>Introduction\\n\\nAs increasing numbers of full-...</td>\n",
       "    </tr>\n",
       "    <tr>\n",
       "      <th>1</th>\n",
       "      <td>Why can't I visit? The ethics of visitation re...</td>\n",
       "      <td>Patients want, need and expect that their rela...</td>\n",
       "      <td>Introduction\\n\\nThe sudden emergence of severe...</td>\n",
       "    </tr>\n",
       "    <tr>\n",
       "      <th>2</th>\n",
       "      <td>Prospective evaluation of an internet-linked h...</td>\n",
       "      <td>INTRODUCTION: Critical care physicians may ben...</td>\n",
       "      <td>Introduction\\n\\nThe rate of expansion of medic...</td>\n",
       "    </tr>\n",
       "    <tr>\n",
       "      <th>3</th>\n",
       "      <td>Scanning the horizon: emerging hospital-wide t...</td>\n",
       "      <td>This commentary represents a selective survey ...</td>\n",
       "      <td>Introduction\\n\\nThis series of articles provid...</td>\n",
       "    </tr>\n",
       "    <tr>\n",
       "      <th>4</th>\n",
       "      <td>Characterization of the frameshift signal of E...</td>\n",
       "      <td>The ribosomal frameshifting signal of the mous...</td>\n",
       "      <td>INTRODUCTION\\n\\nProgrammed −1 ribosomal frames...</td>\n",
       "    </tr>\n",
       "  </tbody>\n",
       "</table>\n",
       "</div>"
      ],
      "text/plain": [
       "                                               title  \\\n",
       "0  Recombination Every Day: Abundant Recombinatio...   \n",
       "1  Why can't I visit? The ethics of visitation re...   \n",
       "2  Prospective evaluation of an internet-linked h...   \n",
       "3  Scanning the horizon: emerging hospital-wide t...   \n",
       "4  Characterization of the frameshift signal of E...   \n",
       "\n",
       "                                            abstract  \\\n",
       "0  Viral recombination can dramatically impact ev...   \n",
       "1  Patients want, need and expect that their rela...   \n",
       "2  INTRODUCTION: Critical care physicians may ben...   \n",
       "3  This commentary represents a selective survey ...   \n",
       "4  The ribosomal frameshifting signal of the mous...   \n",
       "\n",
       "                                           text_body  \n",
       "0  Introduction\\n\\nAs increasing numbers of full-...  \n",
       "1  Introduction\\n\\nThe sudden emergence of severe...  \n",
       "2  Introduction\\n\\nThe rate of expansion of medic...  \n",
       "3  Introduction\\n\\nThis series of articles provid...  \n",
       "4  INTRODUCTION\\n\\nProgrammed −1 ribosomal frames...  "
      ]
     },
     "execution_count": 12,
     "metadata": {},
     "output_type": "execute_result"
    }
   ],
   "source": [
    "df.head()"
   ]
  },
  {
   "cell_type": "code",
   "execution_count": 45,
   "metadata": {},
   "outputs": [],
   "source": [
    "#Selecting articles from the df which contain treatment information\n",
    "#droppping the regex and searching with a substring is faster\n",
    "df_treat= df[df['title'].astype(str).str.contains(\"treatment\",regex=False)\n",
    "        ].reset_index(drop=True)\n",
    "\n"
   ]
  },
  {
   "cell_type": "code",
   "execution_count": 46,
   "metadata": {},
   "outputs": [
    {
     "data": {
      "text/plain": [
       "(3, 3)"
      ]
     },
     "execution_count": 46,
     "metadata": {},
     "output_type": "execute_result"
    }
   ],
   "source": [
    "#shape of treatment df\n",
    "df_treat.shape"
   ]
  },
  {
   "cell_type": "code",
   "execution_count": 47,
   "metadata": {},
   "outputs": [
    {
     "data": {
      "text/html": [
       "<div>\n",
       "<style scoped>\n",
       "    .dataframe tbody tr th:only-of-type {\n",
       "        vertical-align: middle;\n",
       "    }\n",
       "\n",
       "    .dataframe tbody tr th {\n",
       "        vertical-align: top;\n",
       "    }\n",
       "\n",
       "    .dataframe thead th {\n",
       "        text-align: right;\n",
       "    }\n",
       "</style>\n",
       "<table border=\"1\" class=\"dataframe\">\n",
       "  <thead>\n",
       "    <tr style=\"text-align: right;\">\n",
       "      <th></th>\n",
       "      <th>title</th>\n",
       "      <th>abstract</th>\n",
       "      <th>text_body</th>\n",
       "    </tr>\n",
       "  </thead>\n",
       "  <tbody>\n",
       "    <tr>\n",
       "      <th>0</th>\n",
       "      <td>Phosphatidylserine treatment relieves the bloc...</td>\n",
       "      <td>BACKGROUND: A major determinant of retrovirus ...</td>\n",
       "      <td>Background\\n\\nMany of the cellular receptors f...</td>\n",
       "    </tr>\n",
       "    <tr>\n",
       "      <th>1</th>\n",
       "      <td>Immune reconstitution inflammatory syndrome (I...</td>\n",
       "      <td>The immune reconstitution inflammatory syndrom...</td>\n",
       "      <td>Pathogenesis of IRIS ::: Introduction\\n\\nDespi...</td>\n",
       "    </tr>\n",
       "    <tr>\n",
       "      <th>2</th>\n",
       "      <td>Diagnosis and treatment of severe sepsis</td>\n",
       "      <td>The burden of infection in industrialized coun...</td>\n",
       "      <td>Introduction\\n\\nSevere sepsis and septic shock...</td>\n",
       "    </tr>\n",
       "  </tbody>\n",
       "</table>\n",
       "</div>"
      ],
      "text/plain": [
       "                                               title  \\\n",
       "0  Phosphatidylserine treatment relieves the bloc...   \n",
       "1  Immune reconstitution inflammatory syndrome (I...   \n",
       "2           Diagnosis and treatment of severe sepsis   \n",
       "\n",
       "                                            abstract  \\\n",
       "0  BACKGROUND: A major determinant of retrovirus ...   \n",
       "1  The immune reconstitution inflammatory syndrom...   \n",
       "2  The burden of infection in industrialized coun...   \n",
       "\n",
       "                                           text_body  \n",
       "0  Background\\n\\nMany of the cellular receptors f...  \n",
       "1  Pathogenesis of IRIS ::: Introduction\\n\\nDespi...  \n",
       "2  Introduction\\n\\nSevere sepsis and septic shock...  "
      ]
     },
     "execution_count": 47,
     "metadata": {},
     "output_type": "execute_result"
    }
   ],
   "source": [
    "df_treat"
   ]
  },
  {
   "cell_type": "code",
   "execution_count": 51,
   "metadata": {},
   "outputs": [],
   "source": [
    "def display_entities(model,document):\n",
    "    \"\"\" A function that returns a tuple of displacy image of named or unnamed word entities and\n",
    "        a set of unique entities recognized based on scispacy model in use\n",
    "        Args: \n",
    "            model: A pretrained model from spaCy or ScispaCy\n",
    "            document: text data to be analysed\"\"\"\n",
    "    nlp = model.load()\n",
    "    doc = nlp(document)\n",
    "    displacy_image = displacy.render(doc, jupyter=True,style='ent')\n",
    "    entity_and_label = set([(X.text, X.label_) for X in doc.ents])\n",
    "    return  displacy_image, entity_and_label"
   ]
  },
  {
   "cell_type": "code",
   "execution_count": 52,
   "metadata": {},
   "outputs": [
    {
     "data": {
      "text/plain": [
       "'BACKGROUND: A major determinant of retrovirus host range is the presence or absence of appropriate cell-surface receptors required for virus entry. Often orthologs of functional receptors are present in a wide range of species, but amino acid differences can render these receptors non-functional. In some cases amino acid differences result in additional N-linked glycosylation that blocks virus infection. The latter block to retrovirus infection can be overcome by treatment of cells with compounds such as tunicamycin, which prevent the addition of N-linked oligosaccharides. RESULTS: We have discovered that treatment of cells with liposomes composed of phosphatidylserine (PS) can also overcome the block to infection mediated by N-linked glycosylation. Importantly, this effect occurs without apparent change in the glycosylation state of the receptors for these viruses. This effect occurs with delayed kinetics compared to previous results showing enhancement of virus infection by PS treatment of cells expressing functional virus receptors. CONCLUSION: We have demonstrated that PS treatment can relieve the block to retrovirus infection of cells expressing retroviral receptors that have been rendered non-functional by glycosylation. These findings have important implications for the current model describing inhibition of virus entry by receptor glycosylation.'"
      ]
     },
     "execution_count": 52,
     "metadata": {},
     "output_type": "execute_result"
    }
   ],
   "source": [
    "document1=df_treat['abstract'][0]\n",
    "document1"
   ]
  },
  {
   "cell_type": "code",
   "execution_count": 53,
   "metadata": {},
   "outputs": [
    {
     "data": {
      "text/html": [
       "<span class=\"tex2jax_ignore\"><div class=\"entities\" style=\"line-height: 2.5; direction: ltr\">BACKGROUND: A major determinant of retrovirus host range is the presence or absence of appropriate cell-surface receptors required for virus entry. Often orthologs of functional receptors are present in a wide range of species, but \n",
       "<mark class=\"entity\" style=\"background: #ddd; padding: 0.45em 0.6em; margin: 0 0.25em; line-height: 1; border-radius: 0.35em;\">\n",
       "    amino acid\n",
       "    <span style=\"font-size: 0.8em; font-weight: bold; line-height: 1; border-radius: 0.35em; text-transform: uppercase; vertical-align: middle; margin-left: 0.5rem\">CHEMICAL</span>\n",
       "</mark>\n",
       " differences can render these receptors non-functional. In some cases \n",
       "<mark class=\"entity\" style=\"background: #ddd; padding: 0.45em 0.6em; margin: 0 0.25em; line-height: 1; border-radius: 0.35em;\">\n",
       "    amino acid\n",
       "    <span style=\"font-size: 0.8em; font-weight: bold; line-height: 1; border-radius: 0.35em; text-transform: uppercase; vertical-align: middle; margin-left: 0.5rem\">CHEMICAL</span>\n",
       "</mark>\n",
       " differences result in additional N-linked glycosylation that blocks \n",
       "<mark class=\"entity\" style=\"background: #ddd; padding: 0.45em 0.6em; margin: 0 0.25em; line-height: 1; border-radius: 0.35em;\">\n",
       "    virus infection\n",
       "    <span style=\"font-size: 0.8em; font-weight: bold; line-height: 1; border-radius: 0.35em; text-transform: uppercase; vertical-align: middle; margin-left: 0.5rem\">DISEASE</span>\n",
       "</mark>\n",
       ". The latter block to \n",
       "<mark class=\"entity\" style=\"background: #ddd; padding: 0.45em 0.6em; margin: 0 0.25em; line-height: 1; border-radius: 0.35em;\">\n",
       "    retrovirus infection\n",
       "    <span style=\"font-size: 0.8em; font-weight: bold; line-height: 1; border-radius: 0.35em; text-transform: uppercase; vertical-align: middle; margin-left: 0.5rem\">DISEASE</span>\n",
       "</mark>\n",
       " can be overcome by treatment of cells with compounds such as \n",
       "<mark class=\"entity\" style=\"background: #ddd; padding: 0.45em 0.6em; margin: 0 0.25em; line-height: 1; border-radius: 0.35em;\">\n",
       "    tunicamycin\n",
       "    <span style=\"font-size: 0.8em; font-weight: bold; line-height: 1; border-radius: 0.35em; text-transform: uppercase; vertical-align: middle; margin-left: 0.5rem\">CHEMICAL</span>\n",
       "</mark>\n",
       ", which prevent the addition of N-linked oligosaccharides. RESULTS: We have discovered that treatment of cells with liposomes composed of \n",
       "<mark class=\"entity\" style=\"background: #ddd; padding: 0.45em 0.6em; margin: 0 0.25em; line-height: 1; border-radius: 0.35em;\">\n",
       "    phosphatidylserine\n",
       "    <span style=\"font-size: 0.8em; font-weight: bold; line-height: 1; border-radius: 0.35em; text-transform: uppercase; vertical-align: middle; margin-left: 0.5rem\">CHEMICAL</span>\n",
       "</mark>\n",
       " (PS) can also overcome the block to \n",
       "<mark class=\"entity\" style=\"background: #ddd; padding: 0.45em 0.6em; margin: 0 0.25em; line-height: 1; border-radius: 0.35em;\">\n",
       "    infection\n",
       "    <span style=\"font-size: 0.8em; font-weight: bold; line-height: 1; border-radius: 0.35em; text-transform: uppercase; vertical-align: middle; margin-left: 0.5rem\">DISEASE</span>\n",
       "</mark>\n",
       " mediated by N-linked glycosylation. Importantly, this effect occurs without apparent change in the glycosylation state of the receptors for these viruses. This effect occurs with delayed kinetics compared to previous results showing enhancement of \n",
       "<mark class=\"entity\" style=\"background: #ddd; padding: 0.45em 0.6em; margin: 0 0.25em; line-height: 1; border-radius: 0.35em;\">\n",
       "    virus infection\n",
       "    <span style=\"font-size: 0.8em; font-weight: bold; line-height: 1; border-radius: 0.35em; text-transform: uppercase; vertical-align: middle; margin-left: 0.5rem\">DISEASE</span>\n",
       "</mark>\n",
       " by PS treatment of cells expressing functional virus receptors. CONCLUSION: We have demonstrated that PS treatment can relieve the block to retrovirus infection of cells expressing retroviral receptors that have been rendered non-functional by glycosylation. These findings have important implications for the current model describing inhibition of virus entry by receptor glycosylation.</div></span>"
      ],
      "text/plain": [
       "<IPython.core.display.HTML object>"
      ]
     },
     "metadata": {},
     "output_type": "display_data"
    }
   ],
   "source": [
    "bc5dr_entities = display_entities(en_ner_bc5cdr_md,document1)"
   ]
  },
  {
   "cell_type": "code",
   "execution_count": 54,
   "metadata": {},
   "outputs": [
    {
     "data": {
      "text/html": [
       "<div>\n",
       "<style scoped>\n",
       "    .dataframe tbody tr th:only-of-type {\n",
       "        vertical-align: middle;\n",
       "    }\n",
       "\n",
       "    .dataframe tbody tr th {\n",
       "        vertical-align: top;\n",
       "    }\n",
       "\n",
       "    .dataframe thead th {\n",
       "        text-align: right;\n",
       "    }\n",
       "</style>\n",
       "<table border=\"1\" class=\"dataframe\">\n",
       "  <thead>\n",
       "    <tr style=\"text-align: right;\">\n",
       "      <th></th>\n",
       "      <th>Entity</th>\n",
       "      <th>Label</th>\n",
       "      <th>Ner_model</th>\n",
       "    </tr>\n",
       "  </thead>\n",
       "  <tbody>\n",
       "    <tr>\n",
       "      <th>0</th>\n",
       "      <td>amino acid</td>\n",
       "      <td>CHEMICAL</td>\n",
       "      <td>bc5dr</td>\n",
       "    </tr>\n",
       "    <tr>\n",
       "      <th>1</th>\n",
       "      <td>retrovirus infection</td>\n",
       "      <td>DISEASE</td>\n",
       "      <td>bc5dr</td>\n",
       "    </tr>\n",
       "    <tr>\n",
       "      <th>2</th>\n",
       "      <td>virus infection</td>\n",
       "      <td>DISEASE</td>\n",
       "      <td>bc5dr</td>\n",
       "    </tr>\n",
       "    <tr>\n",
       "      <th>3</th>\n",
       "      <td>tunicamycin</td>\n",
       "      <td>CHEMICAL</td>\n",
       "      <td>bc5dr</td>\n",
       "    </tr>\n",
       "    <tr>\n",
       "      <th>4</th>\n",
       "      <td>infection</td>\n",
       "      <td>DISEASE</td>\n",
       "      <td>bc5dr</td>\n",
       "    </tr>\n",
       "    <tr>\n",
       "      <th>5</th>\n",
       "      <td>phosphatidylserine</td>\n",
       "      <td>CHEMICAL</td>\n",
       "      <td>bc5dr</td>\n",
       "    </tr>\n",
       "  </tbody>\n",
       "</table>\n",
       "</div>"
      ],
      "text/plain": [
       "                 Entity     Label Ner_model\n",
       "0            amino acid  CHEMICAL     bc5dr\n",
       "1  retrovirus infection   DISEASE     bc5dr\n",
       "2       virus infection   DISEASE     bc5dr\n",
       "3           tunicamycin  CHEMICAL     bc5dr\n",
       "4             infection   DISEASE     bc5dr\n",
       "5    phosphatidylserine  CHEMICAL     bc5dr"
      ]
     },
     "execution_count": 54,
     "metadata": {},
     "output_type": "execute_result"
    }
   ],
   "source": [
    "bc5dr_entities_dataframe = pd.DataFrame(bc5dr_entities[1],columns=['Entity','Label'])  #save returned values of entities and their labels in a pandas dataframe\n",
    "bc5dr_entities_dataframe['Ner_model'] = 'bc5dr'  #include a column with constant value of NER model\n",
    "bc5dr_entities_dataframe"
   ]
  },
  {
   "cell_type": "code",
   "execution_count": 56,
   "metadata": {},
   "outputs": [
    {
     "data": {
      "text/html": [
       "<span class=\"tex2jax_ignore\"><div class=\"entities\" style=\"line-height: 2.5; direction: ltr\">BACKGROUND: A major determinant of \n",
       "<mark class=\"entity\" style=\"background: #ddd; padding: 0.45em 0.6em; margin: 0 0.25em; line-height: 1; border-radius: 0.35em;\">\n",
       "    retrovirus host\n",
       "    <span style=\"font-size: 0.8em; font-weight: bold; line-height: 1; border-radius: 0.35em; text-transform: uppercase; vertical-align: middle; margin-left: 0.5rem\">ORGANISM</span>\n",
       "</mark>\n",
       " range is the presence or absence of appropriate \n",
       "<mark class=\"entity\" style=\"background: #ddd; padding: 0.45em 0.6em; margin: 0 0.25em; line-height: 1; border-radius: 0.35em;\">\n",
       "    cell-surface receptors\n",
       "    <span style=\"font-size: 0.8em; font-weight: bold; line-height: 1; border-radius: 0.35em; text-transform: uppercase; vertical-align: middle; margin-left: 0.5rem\">GENE_OR_GENE_PRODUCT</span>\n",
       "</mark>\n",
       " required for virus entry. Often orthologs of functional receptors are present in a wide range of species, but \n",
       "<mark class=\"entity\" style=\"background: #ddd; padding: 0.45em 0.6em; margin: 0 0.25em; line-height: 1; border-radius: 0.35em;\">\n",
       "    amino acid\n",
       "    <span style=\"font-size: 0.8em; font-weight: bold; line-height: 1; border-radius: 0.35em; text-transform: uppercase; vertical-align: middle; margin-left: 0.5rem\">AMINO_ACID</span>\n",
       "</mark>\n",
       " differences can render these receptors non-functional. In some cases \n",
       "<mark class=\"entity\" style=\"background: #ddd; padding: 0.45em 0.6em; margin: 0 0.25em; line-height: 1; border-radius: 0.35em;\">\n",
       "    amino acid\n",
       "    <span style=\"font-size: 0.8em; font-weight: bold; line-height: 1; border-radius: 0.35em; text-transform: uppercase; vertical-align: middle; margin-left: 0.5rem\">AMINO_ACID</span>\n",
       "</mark>\n",
       " differences result in additional N-linked glycosylation that blocks virus infection. The latter block to \n",
       "<mark class=\"entity\" style=\"background: #ddd; padding: 0.45em 0.6em; margin: 0 0.25em; line-height: 1; border-radius: 0.35em;\">\n",
       "    retrovirus\n",
       "    <span style=\"font-size: 0.8em; font-weight: bold; line-height: 1; border-radius: 0.35em; text-transform: uppercase; vertical-align: middle; margin-left: 0.5rem\">ORGANISM</span>\n",
       "</mark>\n",
       " infection can be overcome by treatment of \n",
       "<mark class=\"entity\" style=\"background: #ddd; padding: 0.45em 0.6em; margin: 0 0.25em; line-height: 1; border-radius: 0.35em;\">\n",
       "    cells\n",
       "    <span style=\"font-size: 0.8em; font-weight: bold; line-height: 1; border-radius: 0.35em; text-transform: uppercase; vertical-align: middle; margin-left: 0.5rem\">CELL</span>\n",
       "</mark>\n",
       " with compounds such as \n",
       "<mark class=\"entity\" style=\"background: #ddd; padding: 0.45em 0.6em; margin: 0 0.25em; line-height: 1; border-radius: 0.35em;\">\n",
       "    tunicamycin\n",
       "    <span style=\"font-size: 0.8em; font-weight: bold; line-height: 1; border-radius: 0.35em; text-transform: uppercase; vertical-align: middle; margin-left: 0.5rem\">SIMPLE_CHEMICAL</span>\n",
       "</mark>\n",
       ", which prevent the addition of N-linked oligosaccharides. RESULTS: We have discovered that treatment of \n",
       "<mark class=\"entity\" style=\"background: #ddd; padding: 0.45em 0.6em; margin: 0 0.25em; line-height: 1; border-radius: 0.35em;\">\n",
       "    cells\n",
       "    <span style=\"font-size: 0.8em; font-weight: bold; line-height: 1; border-radius: 0.35em; text-transform: uppercase; vertical-align: middle; margin-left: 0.5rem\">CELL</span>\n",
       "</mark>\n",
       " with \n",
       "<mark class=\"entity\" style=\"background: #ddd; padding: 0.45em 0.6em; margin: 0 0.25em; line-height: 1; border-radius: 0.35em;\">\n",
       "    liposomes\n",
       "    <span style=\"font-size: 0.8em; font-weight: bold; line-height: 1; border-radius: 0.35em; text-transform: uppercase; vertical-align: middle; margin-left: 0.5rem\">SIMPLE_CHEMICAL</span>\n",
       "</mark>\n",
       " composed of \n",
       "<mark class=\"entity\" style=\"background: #ddd; padding: 0.45em 0.6em; margin: 0 0.25em; line-height: 1; border-radius: 0.35em;\">\n",
       "    phosphatidylserine\n",
       "    <span style=\"font-size: 0.8em; font-weight: bold; line-height: 1; border-radius: 0.35em; text-transform: uppercase; vertical-align: middle; margin-left: 0.5rem\">SIMPLE_CHEMICAL</span>\n",
       "</mark>\n",
       " (PS) can also overcome the block to infection mediated by N-linked glycosylation. Importantly, this effect occurs without apparent change in the glycosylation state of the receptors for these viruses. This effect occurs with delayed kinetics compared to previous results showing enhancement of virus infection by PS treatment of \n",
       "<mark class=\"entity\" style=\"background: #ddd; padding: 0.45em 0.6em; margin: 0 0.25em; line-height: 1; border-radius: 0.35em;\">\n",
       "    cells\n",
       "    <span style=\"font-size: 0.8em; font-weight: bold; line-height: 1; border-radius: 0.35em; text-transform: uppercase; vertical-align: middle; margin-left: 0.5rem\">CELL</span>\n",
       "</mark>\n",
       " expressing functional virus receptors. CONCLUSION: We have demonstrated that PS treatment can relieve the block to \n",
       "<mark class=\"entity\" style=\"background: #ddd; padding: 0.45em 0.6em; margin: 0 0.25em; line-height: 1; border-radius: 0.35em;\">\n",
       "    retrovirus\n",
       "    <span style=\"font-size: 0.8em; font-weight: bold; line-height: 1; border-radius: 0.35em; text-transform: uppercase; vertical-align: middle; margin-left: 0.5rem\">ORGANISM</span>\n",
       "</mark>\n",
       " infection of \n",
       "<mark class=\"entity\" style=\"background: #ddd; padding: 0.45em 0.6em; margin: 0 0.25em; line-height: 1; border-radius: 0.35em;\">\n",
       "    cells\n",
       "    <span style=\"font-size: 0.8em; font-weight: bold; line-height: 1; border-radius: 0.35em; text-transform: uppercase; vertical-align: middle; margin-left: 0.5rem\">CELL</span>\n",
       "</mark>\n",
       " expressing \n",
       "<mark class=\"entity\" style=\"background: #ddd; padding: 0.45em 0.6em; margin: 0 0.25em; line-height: 1; border-radius: 0.35em;\">\n",
       "    retroviral\n",
       "    <span style=\"font-size: 0.8em; font-weight: bold; line-height: 1; border-radius: 0.35em; text-transform: uppercase; vertical-align: middle; margin-left: 0.5rem\">ORGANISM</span>\n",
       "</mark>\n",
       " receptors that have been rendered non-functional by glycosylation. These findings have important implications for the current model describing inhibition of virus entry by receptor glycosylation.</div></span>"
      ],
      "text/plain": [
       "<IPython.core.display.HTML object>"
      ]
     },
     "metadata": {},
     "output_type": "display_data"
    }
   ],
   "source": [
    "\n",
    "bionlp13cg_entities = display_entities(en_ner_bionlp13cg_md,document1)"
   ]
  },
  {
   "cell_type": "code",
   "execution_count": 57,
   "metadata": {},
   "outputs": [
    {
     "data": {
      "text/html": [
       "<div>\n",
       "<style scoped>\n",
       "    .dataframe tbody tr th:only-of-type {\n",
       "        vertical-align: middle;\n",
       "    }\n",
       "\n",
       "    .dataframe tbody tr th {\n",
       "        vertical-align: top;\n",
       "    }\n",
       "\n",
       "    .dataframe thead th {\n",
       "        text-align: right;\n",
       "    }\n",
       "</style>\n",
       "<table border=\"1\" class=\"dataframe\">\n",
       "  <thead>\n",
       "    <tr style=\"text-align: right;\">\n",
       "      <th></th>\n",
       "      <th>Entity</th>\n",
       "      <th>Label</th>\n",
       "      <th>Ner_model</th>\n",
       "    </tr>\n",
       "  </thead>\n",
       "  <tbody>\n",
       "    <tr>\n",
       "      <th>0</th>\n",
       "      <td>liposomes</td>\n",
       "      <td>SIMPLE_CHEMICAL</td>\n",
       "      <td>bionlp13cg</td>\n",
       "    </tr>\n",
       "    <tr>\n",
       "      <th>1</th>\n",
       "      <td>cells</td>\n",
       "      <td>CELL</td>\n",
       "      <td>bionlp13cg</td>\n",
       "    </tr>\n",
       "    <tr>\n",
       "      <th>2</th>\n",
       "      <td>amino acid</td>\n",
       "      <td>AMINO_ACID</td>\n",
       "      <td>bionlp13cg</td>\n",
       "    </tr>\n",
       "    <tr>\n",
       "      <th>3</th>\n",
       "      <td>cell-surface receptors</td>\n",
       "      <td>GENE_OR_GENE_PRODUCT</td>\n",
       "      <td>bionlp13cg</td>\n",
       "    </tr>\n",
       "    <tr>\n",
       "      <th>4</th>\n",
       "      <td>retroviral</td>\n",
       "      <td>ORGANISM</td>\n",
       "      <td>bionlp13cg</td>\n",
       "    </tr>\n",
       "    <tr>\n",
       "      <th>5</th>\n",
       "      <td>retrovirus</td>\n",
       "      <td>ORGANISM</td>\n",
       "      <td>bionlp13cg</td>\n",
       "    </tr>\n",
       "    <tr>\n",
       "      <th>6</th>\n",
       "      <td>tunicamycin</td>\n",
       "      <td>SIMPLE_CHEMICAL</td>\n",
       "      <td>bionlp13cg</td>\n",
       "    </tr>\n",
       "    <tr>\n",
       "      <th>7</th>\n",
       "      <td>retrovirus host</td>\n",
       "      <td>ORGANISM</td>\n",
       "      <td>bionlp13cg</td>\n",
       "    </tr>\n",
       "    <tr>\n",
       "      <th>8</th>\n",
       "      <td>phosphatidylserine</td>\n",
       "      <td>SIMPLE_CHEMICAL</td>\n",
       "      <td>bionlp13cg</td>\n",
       "    </tr>\n",
       "  </tbody>\n",
       "</table>\n",
       "</div>"
      ],
      "text/plain": [
       "                   Entity                 Label   Ner_model\n",
       "0               liposomes       SIMPLE_CHEMICAL  bionlp13cg\n",
       "1                   cells                  CELL  bionlp13cg\n",
       "2              amino acid            AMINO_ACID  bionlp13cg\n",
       "3  cell-surface receptors  GENE_OR_GENE_PRODUCT  bionlp13cg\n",
       "4              retroviral              ORGANISM  bionlp13cg\n",
       "5              retrovirus              ORGANISM  bionlp13cg\n",
       "6             tunicamycin       SIMPLE_CHEMICAL  bionlp13cg\n",
       "7         retrovirus host              ORGANISM  bionlp13cg\n",
       "8      phosphatidylserine       SIMPLE_CHEMICAL  bionlp13cg"
      ]
     },
     "execution_count": 57,
     "metadata": {},
     "output_type": "execute_result"
    }
   ],
   "source": [
    "\n",
    "bionlp13cg_entities_dataframe = pd.DataFrame(bionlp13cg_entities[1],columns=['Entity','Label']) #save returned values of entities and their labels in a pandas dataframe\n",
    "bionlp13cg_entities_dataframe['Ner_model'] = 'bionlp13cg'  #include a column with constant value of NER model\n",
    "bionlp13cg_entities_dataframe"
   ]
  },
  {
   "cell_type": "code",
   "execution_count": 58,
   "metadata": {},
   "outputs": [
    {
     "data": {
      "text/html": [
       "<span class=\"tex2jax_ignore\"><div class=\"entities\" style=\"line-height: 2.5; direction: ltr\">BACKGROUND: A major determinant of \n",
       "<mark class=\"entity\" style=\"background: #ddd; padding: 0.45em 0.6em; margin: 0 0.25em; line-height: 1; border-radius: 0.35em;\">\n",
       "    retrovirus\n",
       "    <span style=\"font-size: 0.8em; font-weight: bold; line-height: 1; border-radius: 0.35em; text-transform: uppercase; vertical-align: middle; margin-left: 0.5rem\">TAXON</span>\n",
       "</mark>\n",
       " host range is the presence or absence of appropriate cell-surface receptors required for \n",
       "<mark class=\"entity\" style=\"background: #ddd; padding: 0.45em 0.6em; margin: 0 0.25em; line-height: 1; border-radius: 0.35em;\">\n",
       "    virus\n",
       "    <span style=\"font-size: 0.8em; font-weight: bold; line-height: 1; border-radius: 0.35em; text-transform: uppercase; vertical-align: middle; margin-left: 0.5rem\">TAXON</span>\n",
       "</mark>\n",
       " entry. Often \n",
       "<mark class=\"entity\" style=\"background: #ddd; padding: 0.45em 0.6em; margin: 0 0.25em; line-height: 1; border-radius: 0.35em;\">\n",
       "    orthologs\n",
       "    <span style=\"font-size: 0.8em; font-weight: bold; line-height: 1; border-radius: 0.35em; text-transform: uppercase; vertical-align: middle; margin-left: 0.5rem\">SO</span>\n",
       "</mark>\n",
       " of functional receptors are present in a wide range of species, but \n",
       "<mark class=\"entity\" style=\"background: #ddd; padding: 0.45em 0.6em; margin: 0 0.25em; line-height: 1; border-radius: 0.35em;\">\n",
       "    amino acid\n",
       "    <span style=\"font-size: 0.8em; font-weight: bold; line-height: 1; border-radius: 0.35em; text-transform: uppercase; vertical-align: middle; margin-left: 0.5rem\">CHEBI</span>\n",
       "</mark>\n",
       " differences can render these receptors non-functional. In some cases \n",
       "<mark class=\"entity\" style=\"background: #ddd; padding: 0.45em 0.6em; margin: 0 0.25em; line-height: 1; border-radius: 0.35em;\">\n",
       "    amino acid\n",
       "    <span style=\"font-size: 0.8em; font-weight: bold; line-height: 1; border-radius: 0.35em; text-transform: uppercase; vertical-align: middle; margin-left: 0.5rem\">CHEBI</span>\n",
       "</mark>\n",
       " differences result in additional N-linked glycosylation that blocks \n",
       "<mark class=\"entity\" style=\"background: #ddd; padding: 0.45em 0.6em; margin: 0 0.25em; line-height: 1; border-radius: 0.35em;\">\n",
       "    virus\n",
       "    <span style=\"font-size: 0.8em; font-weight: bold; line-height: 1; border-radius: 0.35em; text-transform: uppercase; vertical-align: middle; margin-left: 0.5rem\">TAXON</span>\n",
       "</mark>\n",
       " infection. The latter block to \n",
       "<mark class=\"entity\" style=\"background: #ddd; padding: 0.45em 0.6em; margin: 0 0.25em; line-height: 1; border-radius: 0.35em;\">\n",
       "    retrovirus\n",
       "    <span style=\"font-size: 0.8em; font-weight: bold; line-height: 1; border-radius: 0.35em; text-transform: uppercase; vertical-align: middle; margin-left: 0.5rem\">TAXON</span>\n",
       "</mark>\n",
       " infection can be overcome by treatment of \n",
       "<mark class=\"entity\" style=\"background: #ddd; padding: 0.45em 0.6em; margin: 0 0.25em; line-height: 1; border-radius: 0.35em;\">\n",
       "    cells\n",
       "    <span style=\"font-size: 0.8em; font-weight: bold; line-height: 1; border-radius: 0.35em; text-transform: uppercase; vertical-align: middle; margin-left: 0.5rem\">CL</span>\n",
       "</mark>\n",
       " with \n",
       "<mark class=\"entity\" style=\"background: #ddd; padding: 0.45em 0.6em; margin: 0 0.25em; line-height: 1; border-radius: 0.35em;\">\n",
       "    compounds\n",
       "    <span style=\"font-size: 0.8em; font-weight: bold; line-height: 1; border-radius: 0.35em; text-transform: uppercase; vertical-align: middle; margin-left: 0.5rem\">CHEBI</span>\n",
       "</mark>\n",
       " such as tunicamycin, which prevent the addition of \n",
       "<mark class=\"entity\" style=\"background: #ddd; padding: 0.45em 0.6em; margin: 0 0.25em; line-height: 1; border-radius: 0.35em;\">\n",
       "    N-linked oligosaccharides\n",
       "    <span style=\"font-size: 0.8em; font-weight: bold; line-height: 1; border-radius: 0.35em; text-transform: uppercase; vertical-align: middle; margin-left: 0.5rem\">CHEBI</span>\n",
       "</mark>\n",
       ". RESULTS: We have discovered that treatment of \n",
       "<mark class=\"entity\" style=\"background: #ddd; padding: 0.45em 0.6em; margin: 0 0.25em; line-height: 1; border-radius: 0.35em;\">\n",
       "    cells\n",
       "    <span style=\"font-size: 0.8em; font-weight: bold; line-height: 1; border-radius: 0.35em; text-transform: uppercase; vertical-align: middle; margin-left: 0.5rem\">CL</span>\n",
       "</mark>\n",
       " with \n",
       "<mark class=\"entity\" style=\"background: #ddd; padding: 0.45em 0.6em; margin: 0 0.25em; line-height: 1; border-radius: 0.35em;\">\n",
       "    liposomes\n",
       "    <span style=\"font-size: 0.8em; font-weight: bold; line-height: 1; border-radius: 0.35em; text-transform: uppercase; vertical-align: middle; margin-left: 0.5rem\">GO</span>\n",
       "</mark>\n",
       " composed of \n",
       "<mark class=\"entity\" style=\"background: #ddd; padding: 0.45em 0.6em; margin: 0 0.25em; line-height: 1; border-radius: 0.35em;\">\n",
       "    phosphatidylserine\n",
       "    <span style=\"font-size: 0.8em; font-weight: bold; line-height: 1; border-radius: 0.35em; text-transform: uppercase; vertical-align: middle; margin-left: 0.5rem\">CHEBI</span>\n",
       "</mark>\n",
       " (PS) can also overcome the block to infection mediated by N-linked glycosylation. Importantly, this effect occurs without apparent change in the glycosylation state of the receptors for these \n",
       "<mark class=\"entity\" style=\"background: #ddd; padding: 0.45em 0.6em; margin: 0 0.25em; line-height: 1; border-radius: 0.35em;\">\n",
       "    viruses\n",
       "    <span style=\"font-size: 0.8em; font-weight: bold; line-height: 1; border-radius: 0.35em; text-transform: uppercase; vertical-align: middle; margin-left: 0.5rem\">TAXON</span>\n",
       "</mark>\n",
       ". This effect occurs with delayed kinetics compared to previous results showing enhancement of \n",
       "<mark class=\"entity\" style=\"background: #ddd; padding: 0.45em 0.6em; margin: 0 0.25em; line-height: 1; border-radius: 0.35em;\">\n",
       "    virus\n",
       "    <span style=\"font-size: 0.8em; font-weight: bold; line-height: 1; border-radius: 0.35em; text-transform: uppercase; vertical-align: middle; margin-left: 0.5rem\">TAXON</span>\n",
       "</mark>\n",
       " infection by PS treatment of \n",
       "<mark class=\"entity\" style=\"background: #ddd; padding: 0.45em 0.6em; margin: 0 0.25em; line-height: 1; border-radius: 0.35em;\">\n",
       "    cells\n",
       "    <span style=\"font-size: 0.8em; font-weight: bold; line-height: 1; border-radius: 0.35em; text-transform: uppercase; vertical-align: middle; margin-left: 0.5rem\">CL</span>\n",
       "</mark>\n",
       " expressing functional \n",
       "<mark class=\"entity\" style=\"background: #ddd; padding: 0.45em 0.6em; margin: 0 0.25em; line-height: 1; border-radius: 0.35em;\">\n",
       "    virus\n",
       "    <span style=\"font-size: 0.8em; font-weight: bold; line-height: 1; border-radius: 0.35em; text-transform: uppercase; vertical-align: middle; margin-left: 0.5rem\">TAXON</span>\n",
       "</mark>\n",
       " receptors. CONCLUSION: We have demonstrated that PS treatment can relieve the block to \n",
       "<mark class=\"entity\" style=\"background: #ddd; padding: 0.45em 0.6em; margin: 0 0.25em; line-height: 1; border-radius: 0.35em;\">\n",
       "    retrovirus\n",
       "    <span style=\"font-size: 0.8em; font-weight: bold; line-height: 1; border-radius: 0.35em; text-transform: uppercase; vertical-align: middle; margin-left: 0.5rem\">TAXON</span>\n",
       "</mark>\n",
       " infection of \n",
       "<mark class=\"entity\" style=\"background: #ddd; padding: 0.45em 0.6em; margin: 0 0.25em; line-height: 1; border-radius: 0.35em;\">\n",
       "    cells\n",
       "    <span style=\"font-size: 0.8em; font-weight: bold; line-height: 1; border-radius: 0.35em; text-transform: uppercase; vertical-align: middle; margin-left: 0.5rem\">CL</span>\n",
       "</mark>\n",
       " expressing \n",
       "<mark class=\"entity\" style=\"background: #ddd; padding: 0.45em 0.6em; margin: 0 0.25em; line-height: 1; border-radius: 0.35em;\">\n",
       "    retroviral\n",
       "    <span style=\"font-size: 0.8em; font-weight: bold; line-height: 1; border-radius: 0.35em; text-transform: uppercase; vertical-align: middle; margin-left: 0.5rem\">TAXON</span>\n",
       "</mark>\n",
       " receptors that have been rendered non-functional by glycosylation. These findings have important implications for the current model describing inhibition of \n",
       "<mark class=\"entity\" style=\"background: #ddd; padding: 0.45em 0.6em; margin: 0 0.25em; line-height: 1; border-radius: 0.35em;\">\n",
       "    virus\n",
       "    <span style=\"font-size: 0.8em; font-weight: bold; line-height: 1; border-radius: 0.35em; text-transform: uppercase; vertical-align: middle; margin-left: 0.5rem\">TAXON</span>\n",
       "</mark>\n",
       " entry by receptor glycosylation.</div></span>"
      ],
      "text/plain": [
       "<IPython.core.display.HTML object>"
      ]
     },
     "metadata": {},
     "output_type": "display_data"
    }
   ],
   "source": [
    "craft_entities = display_entities(en_ner_craft_md,document1)"
   ]
  },
  {
   "cell_type": "code",
   "execution_count": 60,
   "metadata": {},
   "outputs": [
    {
     "data": {
      "text/html": [
       "<div>\n",
       "<style scoped>\n",
       "    .dataframe tbody tr th:only-of-type {\n",
       "        vertical-align: middle;\n",
       "    }\n",
       "\n",
       "    .dataframe tbody tr th {\n",
       "        vertical-align: top;\n",
       "    }\n",
       "\n",
       "    .dataframe thead th {\n",
       "        text-align: right;\n",
       "    }\n",
       "</style>\n",
       "<table border=\"1\" class=\"dataframe\">\n",
       "  <thead>\n",
       "    <tr style=\"text-align: right;\">\n",
       "      <th></th>\n",
       "      <th>Entity</th>\n",
       "      <th>Label</th>\n",
       "      <th>Ner_model</th>\n",
       "    </tr>\n",
       "  </thead>\n",
       "  <tbody>\n",
       "    <tr>\n",
       "      <th>0</th>\n",
       "      <td>viruses</td>\n",
       "      <td>TAXON</td>\n",
       "      <td>craft</td>\n",
       "    </tr>\n",
       "    <tr>\n",
       "      <th>1</th>\n",
       "      <td>liposomes</td>\n",
       "      <td>GO</td>\n",
       "      <td>craft</td>\n",
       "    </tr>\n",
       "    <tr>\n",
       "      <th>2</th>\n",
       "      <td>cells</td>\n",
       "      <td>CL</td>\n",
       "      <td>craft</td>\n",
       "    </tr>\n",
       "    <tr>\n",
       "      <th>3</th>\n",
       "      <td>retrovirus</td>\n",
       "      <td>TAXON</td>\n",
       "      <td>craft</td>\n",
       "    </tr>\n",
       "    <tr>\n",
       "      <th>4</th>\n",
       "      <td>compounds</td>\n",
       "      <td>CHEBI</td>\n",
       "      <td>craft</td>\n",
       "    </tr>\n",
       "    <tr>\n",
       "      <th>5</th>\n",
       "      <td>N-linked oligosaccharides</td>\n",
       "      <td>CHEBI</td>\n",
       "      <td>craft</td>\n",
       "    </tr>\n",
       "    <tr>\n",
       "      <th>6</th>\n",
       "      <td>retroviral</td>\n",
       "      <td>TAXON</td>\n",
       "      <td>craft</td>\n",
       "    </tr>\n",
       "    <tr>\n",
       "      <th>7</th>\n",
       "      <td>phosphatidylserine</td>\n",
       "      <td>CHEBI</td>\n",
       "      <td>craft</td>\n",
       "    </tr>\n",
       "    <tr>\n",
       "      <th>8</th>\n",
       "      <td>virus</td>\n",
       "      <td>TAXON</td>\n",
       "      <td>craft</td>\n",
       "    </tr>\n",
       "    <tr>\n",
       "      <th>9</th>\n",
       "      <td>orthologs</td>\n",
       "      <td>SO</td>\n",
       "      <td>craft</td>\n",
       "    </tr>\n",
       "    <tr>\n",
       "      <th>10</th>\n",
       "      <td>amino acid</td>\n",
       "      <td>CHEBI</td>\n",
       "      <td>craft</td>\n",
       "    </tr>\n",
       "  </tbody>\n",
       "</table>\n",
       "</div>"
      ],
      "text/plain": [
       "                       Entity  Label Ner_model\n",
       "0                     viruses  TAXON     craft\n",
       "1                   liposomes     GO     craft\n",
       "2                       cells     CL     craft\n",
       "3                  retrovirus  TAXON     craft\n",
       "4                   compounds  CHEBI     craft\n",
       "5   N-linked oligosaccharides  CHEBI     craft\n",
       "6                  retroviral  TAXON     craft\n",
       "7          phosphatidylserine  CHEBI     craft\n",
       "8                       virus  TAXON     craft\n",
       "9                   orthologs     SO     craft\n",
       "10                 amino acid  CHEBI     craft"
      ]
     },
     "execution_count": 60,
     "metadata": {},
     "output_type": "execute_result"
    }
   ],
   "source": [
    "\n",
    "craft_entities_dataframe = pd.DataFrame(craft_entities[1],columns=['Entity','Label'])  #save returned values of entities and their labels in a pandas dataframe\n",
    "craft_entities_dataframe['Ner_model'] = 'craft' #include a column with constant value of NER model\n",
    "craft_entities_dataframe"
   ]
  },
  {
   "cell_type": "code",
   "execution_count": 59,
   "metadata": {},
   "outputs": [
    {
     "data": {
      "text/html": [
       "<span class=\"tex2jax_ignore\"><div class=\"entities\" style=\"line-height: 2.5; direction: ltr\">BACKGROUND: A major determinant of retrovirus host range is the presence or absence of appropriate \n",
       "<mark class=\"entity\" style=\"background: #ddd; padding: 0.45em 0.6em; margin: 0 0.25em; line-height: 1; border-radius: 0.35em;\">\n",
       "    cell-surface receptors\n",
       "    <span style=\"font-size: 0.8em; font-weight: bold; line-height: 1; border-radius: 0.35em; text-transform: uppercase; vertical-align: middle; margin-left: 0.5rem\">PROTEIN</span>\n",
       "</mark>\n",
       " required for virus entry. Often orthologs of \n",
       "<mark class=\"entity\" style=\"background: #ddd; padding: 0.45em 0.6em; margin: 0 0.25em; line-height: 1; border-radius: 0.35em;\">\n",
       "    functional receptors\n",
       "    <span style=\"font-size: 0.8em; font-weight: bold; line-height: 1; border-radius: 0.35em; text-transform: uppercase; vertical-align: middle; margin-left: 0.5rem\">PROTEIN</span>\n",
       "</mark>\n",
       " are present in a wide range of species, but amino acid differences can render these receptors non-functional. In some cases amino acid differences result in additional \n",
       "<mark class=\"entity\" style=\"background: #ddd; padding: 0.45em 0.6em; margin: 0 0.25em; line-height: 1; border-radius: 0.35em;\">\n",
       "    N-linked\n",
       "    <span style=\"font-size: 0.8em; font-weight: bold; line-height: 1; border-radius: 0.35em; text-transform: uppercase; vertical-align: middle; margin-left: 0.5rem\">PROTEIN</span>\n",
       "</mark>\n",
       " glycosylation that blocks virus infection. The latter block to retrovirus infection can be overcome by treatment of cells with compounds such as tunicamycin, which prevent the addition of N-linked oligosaccharides. RESULTS: We have discovered that treatment of cells with liposomes composed of phosphatidylserine (PS) can also overcome the block to infection mediated by \n",
       "<mark class=\"entity\" style=\"background: #ddd; padding: 0.45em 0.6em; margin: 0 0.25em; line-height: 1; border-radius: 0.35em;\">\n",
       "    N-linked\n",
       "    <span style=\"font-size: 0.8em; font-weight: bold; line-height: 1; border-radius: 0.35em; text-transform: uppercase; vertical-align: middle; margin-left: 0.5rem\">PROTEIN</span>\n",
       "</mark>\n",
       " glycosylation. Importantly, this effect occurs without apparent change in the glycosylation state of the receptors for these viruses. This effect occurs with delayed kinetics compared to previous results showing enhancement of virus infection by PS treatment of cells expressing functional virus receptors. CONCLUSION: We have demonstrated that PS treatment can relieve the block to retrovirus infection of cells expressing \n",
       "<mark class=\"entity\" style=\"background: #ddd; padding: 0.45em 0.6em; margin: 0 0.25em; line-height: 1; border-radius: 0.35em;\">\n",
       "    retroviral receptors\n",
       "    <span style=\"font-size: 0.8em; font-weight: bold; line-height: 1; border-radius: 0.35em; text-transform: uppercase; vertical-align: middle; margin-left: 0.5rem\">PROTEIN</span>\n",
       "</mark>\n",
       " that have been rendered non-functional by glycosylation. These findings have important implications for the current model describing inhibition of virus entry by receptor glycosylation.</div></span>"
      ],
      "text/plain": [
       "<IPython.core.display.HTML object>"
      ]
     },
     "metadata": {},
     "output_type": "display_data"
    }
   ],
   "source": [
    "jnlpba_entities = display_entities(en_ner_jnlpba_md,document1)"
   ]
  },
  {
   "cell_type": "code",
   "execution_count": 62,
   "metadata": {},
   "outputs": [
    {
     "data": {
      "text/html": [
       "<div>\n",
       "<style scoped>\n",
       "    .dataframe tbody tr th:only-of-type {\n",
       "        vertical-align: middle;\n",
       "    }\n",
       "\n",
       "    .dataframe tbody tr th {\n",
       "        vertical-align: top;\n",
       "    }\n",
       "\n",
       "    .dataframe thead th {\n",
       "        text-align: right;\n",
       "    }\n",
       "</style>\n",
       "<table border=\"1\" class=\"dataframe\">\n",
       "  <thead>\n",
       "    <tr style=\"text-align: right;\">\n",
       "      <th></th>\n",
       "      <th>Entity</th>\n",
       "      <th>Label</th>\n",
       "      <th>Ner_model</th>\n",
       "    </tr>\n",
       "  </thead>\n",
       "  <tbody>\n",
       "    <tr>\n",
       "      <th>0</th>\n",
       "      <td>cell-surface receptors</td>\n",
       "      <td>PROTEIN</td>\n",
       "      <td>jnlpa</td>\n",
       "    </tr>\n",
       "    <tr>\n",
       "      <th>1</th>\n",
       "      <td>retroviral receptors</td>\n",
       "      <td>PROTEIN</td>\n",
       "      <td>jnlpa</td>\n",
       "    </tr>\n",
       "    <tr>\n",
       "      <th>2</th>\n",
       "      <td>N-linked</td>\n",
       "      <td>PROTEIN</td>\n",
       "      <td>jnlpa</td>\n",
       "    </tr>\n",
       "    <tr>\n",
       "      <th>3</th>\n",
       "      <td>functional receptors</td>\n",
       "      <td>PROTEIN</td>\n",
       "      <td>jnlpa</td>\n",
       "    </tr>\n",
       "  </tbody>\n",
       "</table>\n",
       "</div>"
      ],
      "text/plain": [
       "                   Entity    Label Ner_model\n",
       "0  cell-surface receptors  PROTEIN     jnlpa\n",
       "1    retroviral receptors  PROTEIN     jnlpa\n",
       "2                N-linked  PROTEIN     jnlpa\n",
       "3    functional receptors  PROTEIN     jnlpa"
      ]
     },
     "execution_count": 62,
     "metadata": {},
     "output_type": "execute_result"
    }
   ],
   "source": [
    "jnlpa_entities_dataframe = pd.DataFrame(jnlpba_entities[1],columns=['Entity','Label']) #save returned values of entities and their labels in a pandas dataframe\n",
    "jnlpa_entities_dataframe['Ner_model'] = 'jnlpa' # include a column with constant value of NER model\n",
    "jnlpa_entities_dataframe"
   ]
  },
  {
   "cell_type": "code",
   "execution_count": 63,
   "metadata": {},
   "outputs": [
    {
     "name": "stdout",
     "output_type": "stream",
     "text": [
      "<class 'pandas.core.frame.DataFrame'>\n",
      "Int64Index: 30 entries, 0 to 3\n",
      "Data columns (total 3 columns):\n",
      " #   Column     Non-Null Count  Dtype \n",
      "---  ------     --------------  ----- \n",
      " 0   Entity     30 non-null     object\n",
      " 1   Label      30 non-null     object\n",
      " 2   Ner_model  30 non-null     object\n",
      "dtypes: object(3)\n",
      "memory usage: 960.0+ bytes\n"
     ]
    }
   ],
   "source": [
    "entities_and_label_from_4_NER_model_dataframe = pd.concat([bc5dr_entities_dataframe,bionlp13cg_entities_dataframe,craft_entities_dataframe,jnlpa_entities_dataframe])\n",
    "#Concatenate all pandas dataframe into one.\n",
    "entities_and_label_from_4_NER_model_dataframe.to_csv('entities_and_label_from_4_scispacy_NER_models.csv', index=False) #Save dataframe to csv\n",
    "entities_and_label_from_4_NER_model_dataframe.info()"
   ]
  }
 ],
 "metadata": {
  "kernelspec": {
   "display_name": "dl",
   "language": "python",
   "name": "dl"
  },
  "language_info": {
   "codemirror_mode": {
    "name": "ipython",
    "version": 3
   },
   "file_extension": ".py",
   "mimetype": "text/x-python",
   "name": "python",
   "nbconvert_exporter": "python",
   "pygments_lexer": "ipython3",
   "version": "3.6.11"
  }
 },
 "nbformat": 4,
 "nbformat_minor": 4
}
